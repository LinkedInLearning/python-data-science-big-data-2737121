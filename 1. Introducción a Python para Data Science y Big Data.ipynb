{
 "cells": [
  {
   "cell_type": "markdown",
   "id": "d39c3217-82e1-4742-9646-84511df30304",
   "metadata": {},
   "source": [
    "# Evaluar nuestras necesidades de Big Data"
   ]
  },
  {
   "cell_type": "markdown",
   "id": "d08d23f4-805a-4ec3-aa07-0d4e3e7d2078",
   "metadata": {},
   "source": [
    "###  Dataset Completo puede encontrarse en:\n",
    "https://www.kaggle.com/datasets/usdot/flight-delays?select=flights.csv\n",
    "\n",
    "En los archivos del curso tienes la versión reducida: *flights_small.csv*"
   ]
  },
  {
   "cell_type": "code",
   "execution_count": 1,
   "id": "a1e0af6c-109c-4657-bb03-3ef3ece63ae8",
   "metadata": {},
   "outputs": [],
   "source": [
    "import pandas as pd\n",
    "import warnings\n",
    "warnings.filterwarnings(\"ignore\")\n",
    "df = pd.read_csv(\"flights.csv\",sep=\",\")"
   ]
  },
  {
   "cell_type": "code",
   "execution_count": 2,
   "id": "1e4719c6-5401-4a05-9285-07935b491c3b",
   "metadata": {},
   "outputs": [
    {
     "name": "stdout",
     "output_type": "stream",
     "text": [
      "Filas: 5819079 - Columnas: 31\n"
     ]
    }
   ],
   "source": [
    "# Número de filas y columnas\n",
    "print(\"Filas: \" + str(df.shape[0]) + \" - Columnas: \" + str(df.shape[1]))"
   ]
  },
  {
   "cell_type": "code",
   "execution_count": 3,
   "id": "a7ab5b06-37f6-477d-b33f-088490c0d7b9",
   "metadata": {},
   "outputs": [
    {
     "name": "stdout",
     "output_type": "stream",
     "text": [
      "Tamaño en memoria (MB): 2484.59\n"
     ]
    }
   ],
   "source": [
    "# Tamaño del DataFrame en memoria\n",
    "print(\"Tamaño en memoria (MB): \" + str(round(df.memory_usage(deep=True).sum() / 1024**2, 2)))"
   ]
  },
  {
   "cell_type": "code",
   "execution_count": 4,
   "id": "24a6e66f-813c-4d2f-a4c1-237c08cfe5fa",
   "metadata": {
    "scrolled": true
   },
   "outputs": [
    {
     "data": {
      "text/plain": [
       "YEAR                      1\n",
       "MONTH                    12\n",
       "DAY                      31\n",
       "DAY_OF_WEEK               7\n",
       "AIRLINE                  14\n",
       "FLIGHT_NUMBER          6952\n",
       "TAIL_NUMBER            4897\n",
       "ORIGIN_AIRPORT          930\n",
       "DESTINATION_AIRPORT     930\n",
       "SCHEDULED_DEPARTURE    1321\n",
       "DEPARTURE_TIME         1440\n",
       "DEPARTURE_DELAY        1217\n",
       "TAXI_OUT                184\n",
       "WHEELS_OFF             1440\n",
       "SCHEDULED_TIME          550\n",
       "ELAPSED_TIME            712\n",
       "AIR_TIME                675\n",
       "DISTANCE               1363\n",
       "WHEELS_ON              1440\n",
       "TAXI_IN                 185\n",
       "SCHEDULED_ARRIVAL      1435\n",
       "ARRIVAL_TIME           1440\n",
       "ARRIVAL_DELAY          1240\n",
       "DIVERTED                  2\n",
       "CANCELLED                 2\n",
       "CANCELLATION_REASON       4\n",
       "AIR_SYSTEM_DELAY        570\n",
       "SECURITY_DELAY          154\n",
       "AIRLINE_DELAY          1067\n",
       "LATE_AIRCRAFT_DELAY     695\n",
       "WEATHER_DELAY           632\n",
       "dtype: int64"
      ]
     },
     "execution_count": 4,
     "metadata": {},
     "output_type": "execute_result"
    }
   ],
   "source": [
    "# Número de valores únicos por columna\n",
    "df.nunique()"
   ]
  },
  {
   "cell_type": "code",
   "execution_count": 5,
   "id": "25ab5933-9c8b-4098-88fa-de11940605ce",
   "metadata": {},
   "outputs": [
    {
     "data": {
      "text/plain": [
       "YEAR                    0.00\n",
       "MONTH                   0.00\n",
       "DAY                     0.00\n",
       "DAY_OF_WEEK             0.00\n",
       "AIRLINE                 0.00\n",
       "FLIGHT_NUMBER           0.00\n",
       "TAIL_NUMBER             0.25\n",
       "ORIGIN_AIRPORT          0.00\n",
       "DESTINATION_AIRPORT     0.00\n",
       "SCHEDULED_DEPARTURE     0.00\n",
       "DEPARTURE_TIME          1.48\n",
       "DEPARTURE_DELAY         1.48\n",
       "TAXI_OUT                1.53\n",
       "WHEELS_OFF              1.53\n",
       "SCHEDULED_TIME          0.00\n",
       "ELAPSED_TIME            1.81\n",
       "AIR_TIME                1.81\n",
       "DISTANCE                0.00\n",
       "WHEELS_ON               1.59\n",
       "TAXI_IN                 1.59\n",
       "SCHEDULED_ARRIVAL       0.00\n",
       "ARRIVAL_TIME            1.59\n",
       "ARRIVAL_DELAY           1.81\n",
       "DIVERTED                0.00\n",
       "CANCELLED               0.00\n",
       "CANCELLATION_REASON    98.46\n",
       "AIR_SYSTEM_DELAY       81.72\n",
       "SECURITY_DELAY         81.72\n",
       "AIRLINE_DELAY          81.72\n",
       "LATE_AIRCRAFT_DELAY    81.72\n",
       "WEATHER_DELAY          81.72\n",
       "dtype: float64"
      ]
     },
     "execution_count": 5,
     "metadata": {},
     "output_type": "execute_result"
    }
   ],
   "source": [
    "# Porcentaje de nulos por columna\n",
    "(df.isnull().mean() * 100).round(2)"
   ]
  },
  {
   "cell_type": "code",
   "execution_count": 6,
   "id": "48898068-aa9f-45ef-a045-2b5f438ab00a",
   "metadata": {},
   "outputs": [
    {
     "name": "stdout",
     "output_type": "stream",
     "text": [
      "Columnas object: ['AIRLINE', 'TAIL_NUMBER', 'ORIGIN_AIRPORT', 'DESTINATION_AIRPORT', 'CANCELLATION_REASON']\n"
     ]
    }
   ],
   "source": [
    "# Columnas tipo texto\n",
    "cols_obj = df.select_dtypes(include='object').columns\n",
    "print(\"Columnas object: \" + str(cols_obj.tolist()))"
   ]
  },
  {
   "cell_type": "code",
   "execution_count": 7,
   "id": "f7efd234-df12-46a5-9f31-576d86633a49",
   "metadata": {},
   "outputs": [],
   "source": [
    "# Pasamos a categoría si tienen pocos valores distintos\n",
    "for col in cols_obj:\n",
    "    if df[col].nunique() < 50:\n",
    "        df[col] = df[col].astype('category')"
   ]
  },
  {
   "cell_type": "code",
   "execution_count": 8,
   "id": "c9d81930-c4f4-4355-a8a3-bcc6484e0669",
   "metadata": {},
   "outputs": [
    {
     "name": "stdout",
     "output_type": "stream",
     "text": [
      "Nuevo tamaño (MB): 2033.54\n"
     ]
    }
   ],
   "source": [
    "# Nuevo tamaño en memoria\n",
    "print(\"Nuevo tamaño (MB): \" + str(round(df.memory_usage(deep=True).sum() / 1024**2, 2)))"
   ]
  },
  {
   "cell_type": "code",
   "execution_count": 9,
   "id": "5fabf9d3-9caf-4f5b-9662-1b53805f97a6",
   "metadata": {},
   "outputs": [
    {
     "name": "stdout",
     "output_type": "stream",
     "text": [
      "Tiempo: 0.06845 seg\n"
     ]
    }
   ],
   "source": [
    "# Agrupación como ejemplo de carga computacional\n",
    "import time\n",
    "start = time.time()\n",
    "\n",
    "df.groupby(['AIRLINE'])['ARRIVAL_DELAY'].mean()\n",
    "\n",
    "print(\"Tiempo: \" + str(round(time.time() - start, 5)) + \" seg\")"
   ]
  },
  {
   "cell_type": "code",
   "execution_count": 10,
   "id": "1307ab99-4b4a-4185-95d0-5504c0c64315",
   "metadata": {},
   "outputs": [
    {
     "data": {
      "text/plain": [
       "{'Retraso medio': 9.37,\n",
       " 'Máximo retraso': 1988.0,\n",
       " 'Cancelados': 89884,\n",
       " 'Porcentaje cancelados': 1.54}"
      ]
     },
     "execution_count": 10,
     "metadata": {},
     "output_type": "execute_result"
    }
   ],
   "source": [
    "# Función simple con resumen\n",
    "def resumen(df):\n",
    "    return {\n",
    "        'Retraso medio': float(df['DEPARTURE_DELAY'].mean().round(2)),\n",
    "        'Máximo retraso': df['DEPARTURE_DELAY'].max(),\n",
    "        'Cancelados': int(df['CANCELLED'].sum()),\n",
    "        'Porcentaje cancelados': round(float(df['CANCELLED'].mean()) * 100, 2)\n",
    "    }\n",
    "\n",
    "resumen(df)"
   ]
  },
  {
   "cell_type": "code",
   "execution_count": null,
   "id": "5cf4e224-0342-4f46-b3b3-03b7151871c6",
   "metadata": {},
   "outputs": [],
   "source": []
  },
  {
   "cell_type": "code",
   "execution_count": null,
   "id": "a7f2cc38-cff4-4127-a8c4-b8d669de30b7",
   "metadata": {},
   "outputs": [],
   "source": []
  },
  {
   "cell_type": "code",
   "execution_count": null,
   "id": "e3f0fb6b-4424-4b12-824f-f152561cdc60",
   "metadata": {},
   "outputs": [],
   "source": []
  },
  {
   "cell_type": "code",
   "execution_count": null,
   "id": "7e1cee3f-39ba-4d9e-9493-d79c5ebf0568",
   "metadata": {},
   "outputs": [],
   "source": []
  },
  {
   "cell_type": "code",
   "execution_count": null,
   "id": "3e208eaa-d544-41c2-8e7a-62d77ea8eeef",
   "metadata": {},
   "outputs": [],
   "source": []
  },
  {
   "cell_type": "code",
   "execution_count": null,
   "id": "8f90bb69-e5fb-40a2-8cf7-cac08f9ac24c",
   "metadata": {},
   "outputs": [],
   "source": []
  },
  {
   "cell_type": "markdown",
   "id": "5468b673-d76c-4f9b-a2af-8918419cff1e",
   "metadata": {},
   "source": [
    "# Trabajar con Jupyter Notebook: Posibilidades"
   ]
  },
  {
   "cell_type": "code",
   "execution_count": 11,
   "id": "3d677079-3a9c-42d0-a0bb-43ebe94c4522",
   "metadata": {},
   "outputs": [
    {
     "name": "stdout",
     "output_type": "stream",
     "text": [
      "<class 'pandas.core.frame.DataFrame'>\n",
      "RangeIndex: 5819079 entries, 0 to 5819078\n",
      "Data columns (total 31 columns):\n",
      " #   Column               Dtype   \n",
      "---  ------               -----   \n",
      " 0   YEAR                 int64   \n",
      " 1   MONTH                int64   \n",
      " 2   DAY                  int64   \n",
      " 3   DAY_OF_WEEK          int64   \n",
      " 4   AIRLINE              category\n",
      " 5   FLIGHT_NUMBER        int64   \n",
      " 6   TAIL_NUMBER          object  \n",
      " 7   ORIGIN_AIRPORT       object  \n",
      " 8   DESTINATION_AIRPORT  object  \n",
      " 9   SCHEDULED_DEPARTURE  int64   \n",
      " 10  DEPARTURE_TIME       float64 \n",
      " 11  DEPARTURE_DELAY      float64 \n",
      " 12  TAXI_OUT             float64 \n",
      " 13  WHEELS_OFF           float64 \n",
      " 14  SCHEDULED_TIME       float64 \n",
      " 15  ELAPSED_TIME         float64 \n",
      " 16  AIR_TIME             float64 \n",
      " 17  DISTANCE             int64   \n",
      " 18  WHEELS_ON            float64 \n",
      " 19  TAXI_IN              float64 \n",
      " 20  SCHEDULED_ARRIVAL    int64   \n",
      " 21  ARRIVAL_TIME         float64 \n",
      " 22  ARRIVAL_DELAY        float64 \n",
      " 23  DIVERTED             int64   \n",
      " 24  CANCELLED            int64   \n",
      " 25  CANCELLATION_REASON  category\n",
      " 26  AIR_SYSTEM_DELAY     float64 \n",
      " 27  SECURITY_DELAY       float64 \n",
      " 28  AIRLINE_DELAY        float64 \n",
      " 29  LATE_AIRCRAFT_DELAY  float64 \n",
      " 30  WEATHER_DELAY        float64 \n",
      "dtypes: category(2), float64(16), int64(10), object(3)\n",
      "memory usage: 1.3+ GB\n"
     ]
    }
   ],
   "source": [
    "df.info()"
   ]
  },
  {
   "cell_type": "code",
   "execution_count": 14,
   "id": "fe9add0c-534c-4885-a0f8-fcc79a6b4b13",
   "metadata": {},
   "outputs": [
    {
     "data": {
      "text/html": [
       "<div>\n",
       "<style scoped>\n",
       "    .dataframe tbody tr th:only-of-type {\n",
       "        vertical-align: middle;\n",
       "    }\n",
       "\n",
       "    .dataframe tbody tr th {\n",
       "        vertical-align: top;\n",
       "    }\n",
       "\n",
       "    .dataframe thead th {\n",
       "        text-align: right;\n",
       "    }\n",
       "</style>\n",
       "<table border=\"1\" class=\"dataframe\">\n",
       "  <thead>\n",
       "    <tr style=\"text-align: right;\">\n",
       "      <th></th>\n",
       "      <th>YEAR</th>\n",
       "      <th>MONTH</th>\n",
       "      <th>DAY</th>\n",
       "      <th>DAY_OF_WEEK</th>\n",
       "      <th>FLIGHT_NUMBER</th>\n",
       "      <th>SCHEDULED_DEPARTURE</th>\n",
       "      <th>DEPARTURE_TIME</th>\n",
       "      <th>DEPARTURE_DELAY</th>\n",
       "      <th>TAXI_OUT</th>\n",
       "      <th>WHEELS_OFF</th>\n",
       "      <th>...</th>\n",
       "      <th>SCHEDULED_ARRIVAL</th>\n",
       "      <th>ARRIVAL_TIME</th>\n",
       "      <th>ARRIVAL_DELAY</th>\n",
       "      <th>DIVERTED</th>\n",
       "      <th>CANCELLED</th>\n",
       "      <th>AIR_SYSTEM_DELAY</th>\n",
       "      <th>SECURITY_DELAY</th>\n",
       "      <th>AIRLINE_DELAY</th>\n",
       "      <th>LATE_AIRCRAFT_DELAY</th>\n",
       "      <th>WEATHER_DELAY</th>\n",
       "    </tr>\n",
       "  </thead>\n",
       "  <tbody>\n",
       "    <tr>\n",
       "      <th>count</th>\n",
       "      <td>5819079.0</td>\n",
       "      <td>5.819079e+06</td>\n",
       "      <td>5.819079e+06</td>\n",
       "      <td>5.819079e+06</td>\n",
       "      <td>5.819079e+06</td>\n",
       "      <td>5.819079e+06</td>\n",
       "      <td>5.732926e+06</td>\n",
       "      <td>5.732926e+06</td>\n",
       "      <td>5.730032e+06</td>\n",
       "      <td>5.730032e+06</td>\n",
       "      <td>...</td>\n",
       "      <td>5.819079e+06</td>\n",
       "      <td>5.726566e+06</td>\n",
       "      <td>5.714008e+06</td>\n",
       "      <td>5.819079e+06</td>\n",
       "      <td>5.819079e+06</td>\n",
       "      <td>1.063439e+06</td>\n",
       "      <td>1.063439e+06</td>\n",
       "      <td>1.063439e+06</td>\n",
       "      <td>1.063439e+06</td>\n",
       "      <td>1.063439e+06</td>\n",
       "    </tr>\n",
       "    <tr>\n",
       "      <th>mean</th>\n",
       "      <td>2015.0</td>\n",
       "      <td>6.524085e+00</td>\n",
       "      <td>1.570459e+01</td>\n",
       "      <td>3.926941e+00</td>\n",
       "      <td>2.173093e+03</td>\n",
       "      <td>1.329602e+03</td>\n",
       "      <td>1.335204e+03</td>\n",
       "      <td>9.370158e+00</td>\n",
       "      <td>1.607166e+01</td>\n",
       "      <td>1.357171e+03</td>\n",
       "      <td>...</td>\n",
       "      <td>1.493808e+03</td>\n",
       "      <td>1.476491e+03</td>\n",
       "      <td>4.407057e+00</td>\n",
       "      <td>2.609863e-03</td>\n",
       "      <td>1.544643e-02</td>\n",
       "      <td>1.348057e+01</td>\n",
       "      <td>7.615387e-02</td>\n",
       "      <td>1.896955e+01</td>\n",
       "      <td>2.347284e+01</td>\n",
       "      <td>2.915290e+00</td>\n",
       "    </tr>\n",
       "    <tr>\n",
       "      <th>std</th>\n",
       "      <td>0.0</td>\n",
       "      <td>3.405137e+00</td>\n",
       "      <td>8.783425e+00</td>\n",
       "      <td>1.988845e+00</td>\n",
       "      <td>1.757064e+03</td>\n",
       "      <td>4.837518e+02</td>\n",
       "      <td>4.964233e+02</td>\n",
       "      <td>3.708094e+01</td>\n",
       "      <td>8.895574e+00</td>\n",
       "      <td>4.980094e+02</td>\n",
       "      <td>...</td>\n",
       "      <td>5.071647e+02</td>\n",
       "      <td>5.263197e+02</td>\n",
       "      <td>3.927130e+01</td>\n",
       "      <td>5.102012e-02</td>\n",
       "      <td>1.233201e-01</td>\n",
       "      <td>2.800368e+01</td>\n",
       "      <td>2.143460e+00</td>\n",
       "      <td>4.816164e+01</td>\n",
       "      <td>4.319702e+01</td>\n",
       "      <td>2.043334e+01</td>\n",
       "    </tr>\n",
       "    <tr>\n",
       "      <th>min</th>\n",
       "      <td>2015.0</td>\n",
       "      <td>1.000000e+00</td>\n",
       "      <td>1.000000e+00</td>\n",
       "      <td>1.000000e+00</td>\n",
       "      <td>1.000000e+00</td>\n",
       "      <td>1.000000e+00</td>\n",
       "      <td>1.000000e+00</td>\n",
       "      <td>-8.200000e+01</td>\n",
       "      <td>1.000000e+00</td>\n",
       "      <td>1.000000e+00</td>\n",
       "      <td>...</td>\n",
       "      <td>1.000000e+00</td>\n",
       "      <td>1.000000e+00</td>\n",
       "      <td>-8.700000e+01</td>\n",
       "      <td>0.000000e+00</td>\n",
       "      <td>0.000000e+00</td>\n",
       "      <td>0.000000e+00</td>\n",
       "      <td>0.000000e+00</td>\n",
       "      <td>0.000000e+00</td>\n",
       "      <td>0.000000e+00</td>\n",
       "      <td>0.000000e+00</td>\n",
       "    </tr>\n",
       "    <tr>\n",
       "      <th>25%</th>\n",
       "      <td>2015.0</td>\n",
       "      <td>4.000000e+00</td>\n",
       "      <td>8.000000e+00</td>\n",
       "      <td>2.000000e+00</td>\n",
       "      <td>7.300000e+02</td>\n",
       "      <td>9.170000e+02</td>\n",
       "      <td>9.210000e+02</td>\n",
       "      <td>-5.000000e+00</td>\n",
       "      <td>1.100000e+01</td>\n",
       "      <td>9.350000e+02</td>\n",
       "      <td>...</td>\n",
       "      <td>1.110000e+03</td>\n",
       "      <td>1.059000e+03</td>\n",
       "      <td>-1.300000e+01</td>\n",
       "      <td>0.000000e+00</td>\n",
       "      <td>0.000000e+00</td>\n",
       "      <td>0.000000e+00</td>\n",
       "      <td>0.000000e+00</td>\n",
       "      <td>0.000000e+00</td>\n",
       "      <td>0.000000e+00</td>\n",
       "      <td>0.000000e+00</td>\n",
       "    </tr>\n",
       "    <tr>\n",
       "      <th>50%</th>\n",
       "      <td>2015.0</td>\n",
       "      <td>7.000000e+00</td>\n",
       "      <td>1.600000e+01</td>\n",
       "      <td>4.000000e+00</td>\n",
       "      <td>1.690000e+03</td>\n",
       "      <td>1.325000e+03</td>\n",
       "      <td>1.330000e+03</td>\n",
       "      <td>-2.000000e+00</td>\n",
       "      <td>1.400000e+01</td>\n",
       "      <td>1.343000e+03</td>\n",
       "      <td>...</td>\n",
       "      <td>1.520000e+03</td>\n",
       "      <td>1.512000e+03</td>\n",
       "      <td>-5.000000e+00</td>\n",
       "      <td>0.000000e+00</td>\n",
       "      <td>0.000000e+00</td>\n",
       "      <td>2.000000e+00</td>\n",
       "      <td>0.000000e+00</td>\n",
       "      <td>2.000000e+00</td>\n",
       "      <td>3.000000e+00</td>\n",
       "      <td>0.000000e+00</td>\n",
       "    </tr>\n",
       "    <tr>\n",
       "      <th>75%</th>\n",
       "      <td>2015.0</td>\n",
       "      <td>9.000000e+00</td>\n",
       "      <td>2.300000e+01</td>\n",
       "      <td>6.000000e+00</td>\n",
       "      <td>3.230000e+03</td>\n",
       "      <td>1.730000e+03</td>\n",
       "      <td>1.740000e+03</td>\n",
       "      <td>7.000000e+00</td>\n",
       "      <td>1.900000e+01</td>\n",
       "      <td>1.754000e+03</td>\n",
       "      <td>...</td>\n",
       "      <td>1.918000e+03</td>\n",
       "      <td>1.917000e+03</td>\n",
       "      <td>8.000000e+00</td>\n",
       "      <td>0.000000e+00</td>\n",
       "      <td>0.000000e+00</td>\n",
       "      <td>1.800000e+01</td>\n",
       "      <td>0.000000e+00</td>\n",
       "      <td>1.900000e+01</td>\n",
       "      <td>2.900000e+01</td>\n",
       "      <td>0.000000e+00</td>\n",
       "    </tr>\n",
       "    <tr>\n",
       "      <th>max</th>\n",
       "      <td>2015.0</td>\n",
       "      <td>1.200000e+01</td>\n",
       "      <td>3.100000e+01</td>\n",
       "      <td>7.000000e+00</td>\n",
       "      <td>9.855000e+03</td>\n",
       "      <td>2.359000e+03</td>\n",
       "      <td>2.400000e+03</td>\n",
       "      <td>1.988000e+03</td>\n",
       "      <td>2.250000e+02</td>\n",
       "      <td>2.400000e+03</td>\n",
       "      <td>...</td>\n",
       "      <td>2.400000e+03</td>\n",
       "      <td>2.400000e+03</td>\n",
       "      <td>1.971000e+03</td>\n",
       "      <td>1.000000e+00</td>\n",
       "      <td>1.000000e+00</td>\n",
       "      <td>1.134000e+03</td>\n",
       "      <td>5.730000e+02</td>\n",
       "      <td>1.971000e+03</td>\n",
       "      <td>1.331000e+03</td>\n",
       "      <td>1.211000e+03</td>\n",
       "    </tr>\n",
       "  </tbody>\n",
       "</table>\n",
       "<p>8 rows × 26 columns</p>\n",
       "</div>"
      ],
      "text/plain": [
       "            YEAR         MONTH           DAY   DAY_OF_WEEK  FLIGHT_NUMBER  \\\n",
       "count  5819079.0  5.819079e+06  5.819079e+06  5.819079e+06   5.819079e+06   \n",
       "mean      2015.0  6.524085e+00  1.570459e+01  3.926941e+00   2.173093e+03   \n",
       "std          0.0  3.405137e+00  8.783425e+00  1.988845e+00   1.757064e+03   \n",
       "min       2015.0  1.000000e+00  1.000000e+00  1.000000e+00   1.000000e+00   \n",
       "25%       2015.0  4.000000e+00  8.000000e+00  2.000000e+00   7.300000e+02   \n",
       "50%       2015.0  7.000000e+00  1.600000e+01  4.000000e+00   1.690000e+03   \n",
       "75%       2015.0  9.000000e+00  2.300000e+01  6.000000e+00   3.230000e+03   \n",
       "max       2015.0  1.200000e+01  3.100000e+01  7.000000e+00   9.855000e+03   \n",
       "\n",
       "       SCHEDULED_DEPARTURE  DEPARTURE_TIME  DEPARTURE_DELAY      TAXI_OUT  \\\n",
       "count         5.819079e+06    5.732926e+06     5.732926e+06  5.730032e+06   \n",
       "mean          1.329602e+03    1.335204e+03     9.370158e+00  1.607166e+01   \n",
       "std           4.837518e+02    4.964233e+02     3.708094e+01  8.895574e+00   \n",
       "min           1.000000e+00    1.000000e+00    -8.200000e+01  1.000000e+00   \n",
       "25%           9.170000e+02    9.210000e+02    -5.000000e+00  1.100000e+01   \n",
       "50%           1.325000e+03    1.330000e+03    -2.000000e+00  1.400000e+01   \n",
       "75%           1.730000e+03    1.740000e+03     7.000000e+00  1.900000e+01   \n",
       "max           2.359000e+03    2.400000e+03     1.988000e+03  2.250000e+02   \n",
       "\n",
       "         WHEELS_OFF  ...  SCHEDULED_ARRIVAL  ARRIVAL_TIME  ARRIVAL_DELAY  \\\n",
       "count  5.730032e+06  ...       5.819079e+06  5.726566e+06   5.714008e+06   \n",
       "mean   1.357171e+03  ...       1.493808e+03  1.476491e+03   4.407057e+00   \n",
       "std    4.980094e+02  ...       5.071647e+02  5.263197e+02   3.927130e+01   \n",
       "min    1.000000e+00  ...       1.000000e+00  1.000000e+00  -8.700000e+01   \n",
       "25%    9.350000e+02  ...       1.110000e+03  1.059000e+03  -1.300000e+01   \n",
       "50%    1.343000e+03  ...       1.520000e+03  1.512000e+03  -5.000000e+00   \n",
       "75%    1.754000e+03  ...       1.918000e+03  1.917000e+03   8.000000e+00   \n",
       "max    2.400000e+03  ...       2.400000e+03  2.400000e+03   1.971000e+03   \n",
       "\n",
       "           DIVERTED     CANCELLED  AIR_SYSTEM_DELAY  SECURITY_DELAY  \\\n",
       "count  5.819079e+06  5.819079e+06      1.063439e+06    1.063439e+06   \n",
       "mean   2.609863e-03  1.544643e-02      1.348057e+01    7.615387e-02   \n",
       "std    5.102012e-02  1.233201e-01      2.800368e+01    2.143460e+00   \n",
       "min    0.000000e+00  0.000000e+00      0.000000e+00    0.000000e+00   \n",
       "25%    0.000000e+00  0.000000e+00      0.000000e+00    0.000000e+00   \n",
       "50%    0.000000e+00  0.000000e+00      2.000000e+00    0.000000e+00   \n",
       "75%    0.000000e+00  0.000000e+00      1.800000e+01    0.000000e+00   \n",
       "max    1.000000e+00  1.000000e+00      1.134000e+03    5.730000e+02   \n",
       "\n",
       "       AIRLINE_DELAY  LATE_AIRCRAFT_DELAY  WEATHER_DELAY  \n",
       "count   1.063439e+06         1.063439e+06   1.063439e+06  \n",
       "mean    1.896955e+01         2.347284e+01   2.915290e+00  \n",
       "std     4.816164e+01         4.319702e+01   2.043334e+01  \n",
       "min     0.000000e+00         0.000000e+00   0.000000e+00  \n",
       "25%     0.000000e+00         0.000000e+00   0.000000e+00  \n",
       "50%     2.000000e+00         3.000000e+00   0.000000e+00  \n",
       "75%     1.900000e+01         2.900000e+01   0.000000e+00  \n",
       "max     1.971000e+03         1.331000e+03   1.211000e+03  \n",
       "\n",
       "[8 rows x 26 columns]"
      ]
     },
     "execution_count": 14,
     "metadata": {},
     "output_type": "execute_result"
    }
   ],
   "source": [
    "df.describe()"
   ]
  },
  {
   "cell_type": "markdown",
   "id": "5776cf37-5175-4834-bde6-72342cf79b98",
   "metadata": {},
   "source": [
    "Veamos un recuento:"
   ]
  },
  {
   "cell_type": "code",
   "execution_count": 15,
   "id": "90835c15-be69-4963-a987-30ade180c02c",
   "metadata": {},
   "outputs": [
    {
     "data": {
      "text/plain": [
       "AIRLINE\n",
       "WN    1261855\n",
       "DL     875881\n",
       "AA     725984\n",
       "OO     588353\n",
       "EV     571977\n",
       "UA     515723\n",
       "MQ     294632\n",
       "B6     267048\n",
       "US     198715\n",
       "AS     172521\n",
       "NK     117379\n",
       "F9      90836\n",
       "HA      76272\n",
       "VX      61903\n",
       "Name: count, dtype: int64"
      ]
     },
     "execution_count": 15,
     "metadata": {},
     "output_type": "execute_result"
    }
   ],
   "source": [
    "df['AIRLINE'].value_counts() # veamos un recuento"
   ]
  },
  {
   "cell_type": "code",
   "execution_count": 16,
   "id": "f49931f0-f9c7-433b-bcc0-d9a09ca7a499",
   "metadata": {},
   "outputs": [
    {
     "data": {
      "text/html": [
       "<div>\n",
       "<style scoped>\n",
       "    .dataframe tbody tr th:only-of-type {\n",
       "        vertical-align: middle;\n",
       "    }\n",
       "\n",
       "    .dataframe tbody tr th {\n",
       "        vertical-align: top;\n",
       "    }\n",
       "\n",
       "    .dataframe thead th {\n",
       "        text-align: right;\n",
       "    }\n",
       "</style>\n",
       "<table border=\"1\" class=\"dataframe\">\n",
       "  <thead>\n",
       "    <tr style=\"text-align: right;\">\n",
       "      <th></th>\n",
       "      <th>AIRLINE</th>\n",
       "      <th>ORIGIN_AIRPORT</th>\n",
       "      <th>DEPARTURE_DELAY</th>\n",
       "    </tr>\n",
       "  </thead>\n",
       "  <tbody>\n",
       "    <tr>\n",
       "      <th>0</th>\n",
       "      <td>AS</td>\n",
       "      <td>ANC</td>\n",
       "      <td>-11.0</td>\n",
       "    </tr>\n",
       "    <tr>\n",
       "      <th>1</th>\n",
       "      <td>AA</td>\n",
       "      <td>LAX</td>\n",
       "      <td>-8.0</td>\n",
       "    </tr>\n",
       "    <tr>\n",
       "      <th>2</th>\n",
       "      <td>US</td>\n",
       "      <td>SFO</td>\n",
       "      <td>-2.0</td>\n",
       "    </tr>\n",
       "    <tr>\n",
       "      <th>3</th>\n",
       "      <td>AA</td>\n",
       "      <td>LAX</td>\n",
       "      <td>-5.0</td>\n",
       "    </tr>\n",
       "    <tr>\n",
       "      <th>4</th>\n",
       "      <td>AS</td>\n",
       "      <td>SEA</td>\n",
       "      <td>-1.0</td>\n",
       "    </tr>\n",
       "    <tr>\n",
       "      <th>5</th>\n",
       "      <td>DL</td>\n",
       "      <td>SFO</td>\n",
       "      <td>-5.0</td>\n",
       "    </tr>\n",
       "    <tr>\n",
       "      <th>6</th>\n",
       "      <td>NK</td>\n",
       "      <td>LAS</td>\n",
       "      <td>-6.0</td>\n",
       "    </tr>\n",
       "    <tr>\n",
       "      <th>7</th>\n",
       "      <td>US</td>\n",
       "      <td>LAX</td>\n",
       "      <td>14.0</td>\n",
       "    </tr>\n",
       "    <tr>\n",
       "      <th>8</th>\n",
       "      <td>AA</td>\n",
       "      <td>SFO</td>\n",
       "      <td>-11.0</td>\n",
       "    </tr>\n",
       "    <tr>\n",
       "      <th>9</th>\n",
       "      <td>DL</td>\n",
       "      <td>LAS</td>\n",
       "      <td>3.0</td>\n",
       "    </tr>\n",
       "  </tbody>\n",
       "</table>\n",
       "</div>"
      ],
      "text/plain": [
       "  AIRLINE ORIGIN_AIRPORT  DEPARTURE_DELAY\n",
       "0      AS            ANC            -11.0\n",
       "1      AA            LAX             -8.0\n",
       "2      US            SFO             -2.0\n",
       "3      AA            LAX             -5.0\n",
       "4      AS            SEA             -1.0\n",
       "5      DL            SFO             -5.0\n",
       "6      NK            LAS             -6.0\n",
       "7      US            LAX             14.0\n",
       "8      AA            SFO            -11.0\n",
       "9      DL            LAS              3.0"
      ]
     },
     "execution_count": 16,
     "metadata": {},
     "output_type": "execute_result"
    }
   ],
   "source": [
    "df[['AIRLINE', 'ORIGIN_AIRPORT', 'DEPARTURE_DELAY']].head(10)"
   ]
  },
  {
   "cell_type": "code",
   "execution_count": 17,
   "id": "fb94d2ea-0241-49f0-a717-09bff59e5b22",
   "metadata": {},
   "outputs": [
    {
     "data": {
      "text/html": [
       "<div>\n",
       "<style scoped>\n",
       "    .dataframe tbody tr th:only-of-type {\n",
       "        vertical-align: middle;\n",
       "    }\n",
       "\n",
       "    .dataframe tbody tr th {\n",
       "        vertical-align: top;\n",
       "    }\n",
       "\n",
       "    .dataframe thead th {\n",
       "        text-align: right;\n",
       "    }\n",
       "</style>\n",
       "<table border=\"1\" class=\"dataframe\">\n",
       "  <thead>\n",
       "    <tr style=\"text-align: right;\">\n",
       "      <th></th>\n",
       "      <th>YEAR</th>\n",
       "      <th>MONTH</th>\n",
       "      <th>DAY</th>\n",
       "      <th>DAY_OF_WEEK</th>\n",
       "      <th>AIRLINE</th>\n",
       "      <th>FLIGHT_NUMBER</th>\n",
       "      <th>TAIL_NUMBER</th>\n",
       "      <th>ORIGIN_AIRPORT</th>\n",
       "      <th>DESTINATION_AIRPORT</th>\n",
       "      <th>SCHEDULED_DEPARTURE</th>\n",
       "      <th>...</th>\n",
       "      <th>ARRIVAL_DELAY</th>\n",
       "      <th>DIVERTED</th>\n",
       "      <th>CANCELLED</th>\n",
       "      <th>CANCELLATION_REASON</th>\n",
       "      <th>AIR_SYSTEM_DELAY</th>\n",
       "      <th>SECURITY_DELAY</th>\n",
       "      <th>AIRLINE_DELAY</th>\n",
       "      <th>LATE_AIRCRAFT_DELAY</th>\n",
       "      <th>WEATHER_DELAY</th>\n",
       "      <th>SALIDA_TARDE</th>\n",
       "    </tr>\n",
       "  </thead>\n",
       "  <tbody>\n",
       "    <tr>\n",
       "      <th>20</th>\n",
       "      <td>2015</td>\n",
       "      <td>1</td>\n",
       "      <td>1</td>\n",
       "      <td>4</td>\n",
       "      <td>NK</td>\n",
       "      <td>520</td>\n",
       "      <td>N525NK</td>\n",
       "      <td>LAS</td>\n",
       "      <td>MCI</td>\n",
       "      <td>55</td>\n",
       "      <td>...</td>\n",
       "      <td>6.0</td>\n",
       "      <td>0</td>\n",
       "      <td>0</td>\n",
       "      <td>NaN</td>\n",
       "      <td>NaN</td>\n",
       "      <td>NaN</td>\n",
       "      <td>NaN</td>\n",
       "      <td>NaN</td>\n",
       "      <td>NaN</td>\n",
       "      <td>True</td>\n",
       "    </tr>\n",
       "    <tr>\n",
       "      <th>29</th>\n",
       "      <td>2015</td>\n",
       "      <td>1</td>\n",
       "      <td>1</td>\n",
       "      <td>4</td>\n",
       "      <td>AA</td>\n",
       "      <td>2392</td>\n",
       "      <td>N3HRAA</td>\n",
       "      <td>DEN</td>\n",
       "      <td>MIA</td>\n",
       "      <td>120</td>\n",
       "      <td>...</td>\n",
       "      <td>2.0</td>\n",
       "      <td>0</td>\n",
       "      <td>0</td>\n",
       "      <td>NaN</td>\n",
       "      <td>NaN</td>\n",
       "      <td>NaN</td>\n",
       "      <td>NaN</td>\n",
       "      <td>NaN</td>\n",
       "      <td>NaN</td>\n",
       "      <td>True</td>\n",
       "    </tr>\n",
       "    <tr>\n",
       "      <th>30</th>\n",
       "      <td>2015</td>\n",
       "      <td>1</td>\n",
       "      <td>1</td>\n",
       "      <td>4</td>\n",
       "      <td>NK</td>\n",
       "      <td>168</td>\n",
       "      <td>N629NK</td>\n",
       "      <td>PHX</td>\n",
       "      <td>ORD</td>\n",
       "      <td>125</td>\n",
       "      <td>...</td>\n",
       "      <td>43.0</td>\n",
       "      <td>0</td>\n",
       "      <td>0</td>\n",
       "      <td>NaN</td>\n",
       "      <td>43.0</td>\n",
       "      <td>0.0</td>\n",
       "      <td>0.0</td>\n",
       "      <td>0.0</td>\n",
       "      <td>0.0</td>\n",
       "      <td>True</td>\n",
       "    </tr>\n",
       "    <tr>\n",
       "      <th>52</th>\n",
       "      <td>2015</td>\n",
       "      <td>1</td>\n",
       "      <td>1</td>\n",
       "      <td>4</td>\n",
       "      <td>B6</td>\n",
       "      <td>2134</td>\n",
       "      <td>N307JB</td>\n",
       "      <td>SJU</td>\n",
       "      <td>MCO</td>\n",
       "      <td>400</td>\n",
       "      <td>...</td>\n",
       "      <td>85.0</td>\n",
       "      <td>0</td>\n",
       "      <td>0</td>\n",
       "      <td>NaN</td>\n",
       "      <td>0.0</td>\n",
       "      <td>0.0</td>\n",
       "      <td>85.0</td>\n",
       "      <td>0.0</td>\n",
       "      <td>0.0</td>\n",
       "      <td>True</td>\n",
       "    </tr>\n",
       "    <tr>\n",
       "      <th>55</th>\n",
       "      <td>2015</td>\n",
       "      <td>1</td>\n",
       "      <td>1</td>\n",
       "      <td>4</td>\n",
       "      <td>B6</td>\n",
       "      <td>2276</td>\n",
       "      <td>N646JB</td>\n",
       "      <td>SJU</td>\n",
       "      <td>BDL</td>\n",
       "      <td>438</td>\n",
       "      <td>...</td>\n",
       "      <td>89.0</td>\n",
       "      <td>0</td>\n",
       "      <td>0</td>\n",
       "      <td>NaN</td>\n",
       "      <td>17.0</td>\n",
       "      <td>0.0</td>\n",
       "      <td>72.0</td>\n",
       "      <td>0.0</td>\n",
       "      <td>0.0</td>\n",
       "      <td>True</td>\n",
       "    </tr>\n",
       "  </tbody>\n",
       "</table>\n",
       "<p>5 rows × 32 columns</p>\n",
       "</div>"
      ],
      "text/plain": [
       "    YEAR  MONTH  DAY  DAY_OF_WEEK AIRLINE  FLIGHT_NUMBER TAIL_NUMBER  \\\n",
       "20  2015      1    1            4      NK            520      N525NK   \n",
       "29  2015      1    1            4      AA           2392      N3HRAA   \n",
       "30  2015      1    1            4      NK            168      N629NK   \n",
       "52  2015      1    1            4      B6           2134      N307JB   \n",
       "55  2015      1    1            4      B6           2276      N646JB   \n",
       "\n",
       "   ORIGIN_AIRPORT DESTINATION_AIRPORT  SCHEDULED_DEPARTURE  ...  \\\n",
       "20            LAS                 MCI                   55  ...   \n",
       "29            DEN                 MIA                  120  ...   \n",
       "30            PHX                 ORD                  125  ...   \n",
       "52            SJU                 MCO                  400  ...   \n",
       "55            SJU                 BDL                  438  ...   \n",
       "\n",
       "    ARRIVAL_DELAY  DIVERTED  CANCELLED  CANCELLATION_REASON  AIR_SYSTEM_DELAY  \\\n",
       "20            6.0         0          0                  NaN               NaN   \n",
       "29            2.0         0          0                  NaN               NaN   \n",
       "30           43.0         0          0                  NaN              43.0   \n",
       "52           85.0         0          0                  NaN               0.0   \n",
       "55           89.0         0          0                  NaN              17.0   \n",
       "\n",
       "    SECURITY_DELAY  AIRLINE_DELAY  LATE_AIRCRAFT_DELAY  WEATHER_DELAY  \\\n",
       "20             NaN            NaN                  NaN            NaN   \n",
       "29             NaN            NaN                  NaN            NaN   \n",
       "30             0.0            0.0                  0.0            0.0   \n",
       "52             0.0           85.0                  0.0            0.0   \n",
       "55             0.0           72.0                  0.0            0.0   \n",
       "\n",
       "    SALIDA_TARDE  \n",
       "20          True  \n",
       "29          True  \n",
       "30          True  \n",
       "52          True  \n",
       "55          True  \n",
       "\n",
       "[5 rows x 32 columns]"
      ]
     },
     "execution_count": 17,
     "metadata": {},
     "output_type": "execute_result"
    }
   ],
   "source": [
    "df['SALIDA_TARDE'] = df['DEPARTURE_DELAY'] > 15\n",
    "df[df['SALIDA_TARDE'] == True].head()"
   ]
  },
  {
   "cell_type": "code",
   "execution_count": 18,
   "id": "354201cf-39ea-4c2b-a8a0-3e5550282099",
   "metadata": {},
   "outputs": [
    {
     "data": {
      "text/html": [
       "<div>\n",
       "<style scoped>\n",
       "    .dataframe tbody tr th:only-of-type {\n",
       "        vertical-align: middle;\n",
       "    }\n",
       "\n",
       "    .dataframe tbody tr th {\n",
       "        vertical-align: top;\n",
       "    }\n",
       "\n",
       "    .dataframe thead th {\n",
       "        text-align: right;\n",
       "    }\n",
       "</style>\n",
       "<table border=\"1\" class=\"dataframe\">\n",
       "  <thead>\n",
       "    <tr style=\"text-align: right;\">\n",
       "      <th></th>\n",
       "      <th>YEAR</th>\n",
       "      <th>MONTH</th>\n",
       "      <th>DAY</th>\n",
       "      <th>DAY_OF_WEEK</th>\n",
       "      <th>AIRLINE</th>\n",
       "      <th>FLIGHT_NUMBER</th>\n",
       "      <th>TAIL_NUMBER</th>\n",
       "      <th>ORIGIN_AIRPORT</th>\n",
       "      <th>DESTINATION_AIRPORT</th>\n",
       "      <th>SCHEDULED_DEPARTURE</th>\n",
       "      <th>...</th>\n",
       "      <th>ARRIVAL_DELAY</th>\n",
       "      <th>DIVERTED</th>\n",
       "      <th>CANCELLED</th>\n",
       "      <th>CANCELLATION_REASON</th>\n",
       "      <th>AIR_SYSTEM_DELAY</th>\n",
       "      <th>SECURITY_DELAY</th>\n",
       "      <th>AIRLINE_DELAY</th>\n",
       "      <th>LATE_AIRCRAFT_DELAY</th>\n",
       "      <th>WEATHER_DELAY</th>\n",
       "      <th>SALIDA_TARDE</th>\n",
       "    </tr>\n",
       "  </thead>\n",
       "  <tbody>\n",
       "    <tr>\n",
       "      <th>337720</th>\n",
       "      <td>2015</td>\n",
       "      <td>1</td>\n",
       "      <td>23</td>\n",
       "      <td>5</td>\n",
       "      <td>AA</td>\n",
       "      <td>1322</td>\n",
       "      <td>N598AA</td>\n",
       "      <td>BHM</td>\n",
       "      <td>DFW</td>\n",
       "      <td>700</td>\n",
       "      <td>...</td>\n",
       "      <td>1971.0</td>\n",
       "      <td>0</td>\n",
       "      <td>0</td>\n",
       "      <td>NaN</td>\n",
       "      <td>0.0</td>\n",
       "      <td>0.0</td>\n",
       "      <td>1971.0</td>\n",
       "      <td>0.0</td>\n",
       "      <td>0.0</td>\n",
       "      <td>True</td>\n",
       "    </tr>\n",
       "    <tr>\n",
       "      <th>3412085</th>\n",
       "      <td>2015</td>\n",
       "      <td>8</td>\n",
       "      <td>1</td>\n",
       "      <td>6</td>\n",
       "      <td>AA</td>\n",
       "      <td>96</td>\n",
       "      <td>N479AA</td>\n",
       "      <td>RIC</td>\n",
       "      <td>DFW</td>\n",
       "      <td>709</td>\n",
       "      <td>...</td>\n",
       "      <td>1898.0</td>\n",
       "      <td>0</td>\n",
       "      <td>0</td>\n",
       "      <td>NaN</td>\n",
       "      <td>20.0</td>\n",
       "      <td>0.0</td>\n",
       "      <td>1878.0</td>\n",
       "      <td>0.0</td>\n",
       "      <td>0.0</td>\n",
       "      <td>True</td>\n",
       "    </tr>\n",
       "    <tr>\n",
       "      <th>4103531</th>\n",
       "      <td>2015</td>\n",
       "      <td>9</td>\n",
       "      <td>13</td>\n",
       "      <td>7</td>\n",
       "      <td>AA</td>\n",
       "      <td>1063</td>\n",
       "      <td>N3CAAA</td>\n",
       "      <td>SAN</td>\n",
       "      <td>DFW</td>\n",
       "      <td>700</td>\n",
       "      <td>...</td>\n",
       "      <td>1665.0</td>\n",
       "      <td>0</td>\n",
       "      <td>0</td>\n",
       "      <td>NaN</td>\n",
       "      <td>0.0</td>\n",
       "      <td>0.0</td>\n",
       "      <td>1665.0</td>\n",
       "      <td>0.0</td>\n",
       "      <td>0.0</td>\n",
       "      <td>True</td>\n",
       "    </tr>\n",
       "    <tr>\n",
       "      <th>5810811</th>\n",
       "      <td>2015</td>\n",
       "      <td>12</td>\n",
       "      <td>31</td>\n",
       "      <td>4</td>\n",
       "      <td>AA</td>\n",
       "      <td>2214</td>\n",
       "      <td>N4XKAA</td>\n",
       "      <td>ABQ</td>\n",
       "      <td>DFW</td>\n",
       "      <td>1041</td>\n",
       "      <td>...</td>\n",
       "      <td>1636.0</td>\n",
       "      <td>0</td>\n",
       "      <td>0</td>\n",
       "      <td>NaN</td>\n",
       "      <td>0.0</td>\n",
       "      <td>0.0</td>\n",
       "      <td>1636.0</td>\n",
       "      <td>0.0</td>\n",
       "      <td>0.0</td>\n",
       "      <td>True</td>\n",
       "    </tr>\n",
       "    <tr>\n",
       "      <th>5279939</th>\n",
       "      <td>2015</td>\n",
       "      <td>11</td>\n",
       "      <td>27</td>\n",
       "      <td>5</td>\n",
       "      <td>AA</td>\n",
       "      <td>2559</td>\n",
       "      <td>N489AA</td>\n",
       "      <td>DTW</td>\n",
       "      <td>ORD</td>\n",
       "      <td>1027</td>\n",
       "      <td>...</td>\n",
       "      <td>1638.0</td>\n",
       "      <td>0</td>\n",
       "      <td>0</td>\n",
       "      <td>NaN</td>\n",
       "      <td>7.0</td>\n",
       "      <td>0.0</td>\n",
       "      <td>1631.0</td>\n",
       "      <td>0.0</td>\n",
       "      <td>0.0</td>\n",
       "      <td>True</td>\n",
       "    </tr>\n",
       "  </tbody>\n",
       "</table>\n",
       "<p>5 rows × 32 columns</p>\n",
       "</div>"
      ],
      "text/plain": [
       "         YEAR  MONTH  DAY  DAY_OF_WEEK AIRLINE  FLIGHT_NUMBER TAIL_NUMBER  \\\n",
       "337720   2015      1   23            5      AA           1322      N598AA   \n",
       "3412085  2015      8    1            6      AA             96      N479AA   \n",
       "4103531  2015      9   13            7      AA           1063      N3CAAA   \n",
       "5810811  2015     12   31            4      AA           2214      N4XKAA   \n",
       "5279939  2015     11   27            5      AA           2559      N489AA   \n",
       "\n",
       "        ORIGIN_AIRPORT DESTINATION_AIRPORT  SCHEDULED_DEPARTURE  ...  \\\n",
       "337720             BHM                 DFW                  700  ...   \n",
       "3412085            RIC                 DFW                  709  ...   \n",
       "4103531            SAN                 DFW                  700  ...   \n",
       "5810811            ABQ                 DFW                 1041  ...   \n",
       "5279939            DTW                 ORD                 1027  ...   \n",
       "\n",
       "         ARRIVAL_DELAY  DIVERTED  CANCELLED  CANCELLATION_REASON  \\\n",
       "337720          1971.0         0          0                  NaN   \n",
       "3412085         1898.0         0          0                  NaN   \n",
       "4103531         1665.0         0          0                  NaN   \n",
       "5810811         1636.0         0          0                  NaN   \n",
       "5279939         1638.0         0          0                  NaN   \n",
       "\n",
       "         AIR_SYSTEM_DELAY  SECURITY_DELAY  AIRLINE_DELAY  LATE_AIRCRAFT_DELAY  \\\n",
       "337720                0.0             0.0         1971.0                  0.0   \n",
       "3412085              20.0             0.0         1878.0                  0.0   \n",
       "4103531               0.0             0.0         1665.0                  0.0   \n",
       "5810811               0.0             0.0         1636.0                  0.0   \n",
       "5279939               7.0             0.0         1631.0                  0.0   \n",
       "\n",
       "         WEATHER_DELAY  SALIDA_TARDE  \n",
       "337720             0.0          True  \n",
       "3412085            0.0          True  \n",
       "4103531            0.0          True  \n",
       "5810811            0.0          True  \n",
       "5279939            0.0          True  \n",
       "\n",
       "[5 rows x 32 columns]"
      ]
     },
     "execution_count": 18,
     "metadata": {},
     "output_type": "execute_result"
    }
   ],
   "source": [
    "df.sort_values('DEPARTURE_DELAY', ascending=False).head()"
   ]
  },
  {
   "cell_type": "code",
   "execution_count": null,
   "id": "691e7e7f-48a2-4bef-af2d-1ab381545d70",
   "metadata": {},
   "outputs": [],
   "source": [
    "df['DEPARTURE_DELAY'].hist(bins=50)"
   ]
  },
  {
   "cell_type": "code",
   "execution_count": null,
   "id": "ee03a802-855e-4853-9a15-7cae8e8c6a6d",
   "metadata": {},
   "outputs": [],
   "source": [
    "df['AIRLINE'].value_counts().plot(kind='bar')"
   ]
  },
  {
   "cell_type": "code",
   "execution_count": null,
   "id": "d4ec5b5c-e858-4dc4-854a-30fedee620af",
   "metadata": {},
   "outputs": [],
   "source": [
    "def resumen_retraso(origen):\n",
    "    temp = df[df['ORIGIN_AIRPORT'] == origen]\n",
    "    return float(temp['DEPARTURE_DELAY'].mean().round(2))\n",
    "\n",
    "resumen_retraso('ATL')"
   ]
  },
  {
   "cell_type": "code",
   "execution_count": null,
   "id": "147aa98d-806a-4c9a-829c-9f67b68fec47",
   "metadata": {},
   "outputs": [],
   "source": [
    "df.groupby('MONTH')['ARRIVAL_DELAY'].mean().plot()"
   ]
  },
  {
   "cell_type": "markdown",
   "id": "7d9d19f1-23c8-400d-bfbf-7ddbf2eb79ef",
   "metadata": {},
   "source": [
    "# Trabajar con PySpark. Similitudes y diferencias"
   ]
  },
  {
   "cell_type": "markdown",
   "id": "1a926a15-905e-4fb3-a78f-ec0b9df42e51",
   "metadata": {},
   "source": [
    "No apto para ejecutar sin una sesión activa de Spark"
   ]
  },
  {
   "cell_type": "code",
   "execution_count": null,
   "id": "5ac16750-add5-4e17-9d18-83459ce57e48",
   "metadata": {},
   "outputs": [],
   "source": [
    "from pyspark.sql import SparkSession\n",
    "from pyspark.sql.functions import col, mean, count, when\n",
    "\n",
    "spark = SparkSession.builder.appName(\"flights\").getOrCreate()\n",
    "df_spark = spark.createDataFrame(df)"
   ]
  },
  {
   "cell_type": "code",
   "execution_count": null,
   "id": "9c21e01d-b43a-4c98-b16a-2c9c549f3d9f",
   "metadata": {},
   "outputs": [],
   "source": [
    "df.head()\n",
    "\n",
    "df_spark.show(5)"
   ]
  },
  {
   "cell_type": "code",
   "execution_count": null,
   "id": "a281ee8e-7291-4b80-a9a6-72c13e8a05a0",
   "metadata": {},
   "outputs": [],
   "source": [
    "df[['AIRLINE', 'ORIGIN_AIRPORT', 'DEPARTURE_DELAY']].head()\n",
    "\n",
    "df_spark.select(\"AIRLINE\", \"ORIGIN_AIRPORT\", \"DEPARTURE_DELAY\").show(5)"
   ]
  },
  {
   "cell_type": "code",
   "execution_count": null,
   "id": "4e00f31b-8af3-4577-abbb-b8a7c83f7011",
   "metadata": {},
   "outputs": [],
   "source": [
    "df[df['DEPARTURE_DELAY'] > 15].head()\n",
    "\n",
    "df_spark.filter(col(\"DEPARTURE_DELAY\") > 15).show(5)"
   ]
  },
  {
   "cell_type": "code",
   "execution_count": null,
   "id": "5b052a06-4849-4019-9726-9c398ff6ed6a",
   "metadata": {},
   "outputs": [],
   "source": [
    "df.sort_values('DEPARTURE_DELAY', ascending=False)[['AIRLINE', 'DEPARTURE_DELAY']].head()\n",
    "\n",
    "df_spark.orderBy(col(\"DEPARTURE_DELAY\").desc()).select(\"AIRLINE\", \"DEPARTURE_DELAY\").show(5)"
   ]
  },
  {
   "cell_type": "code",
   "execution_count": null,
   "id": "dda426f8-bdee-424e-8491-3a5c58a32ef6",
   "metadata": {},
   "outputs": [],
   "source": [
    "df.groupby('AIRLINE')['ARRIVAL_DELAY'].mean()\n",
    "\n",
    "df_spark.groupBy(\"AIRLINE\").agg(mean(\"ARRIVAL_DELAY\").alias(\"media_retraso\")).show()"
   ]
  },
  {
   "cell_type": "code",
   "execution_count": null,
   "id": "f556bf4a-62bc-4da5-a9d5-75eff6549f86",
   "metadata": {},
   "outputs": [],
   "source": [
    "df['SALIDA_TARDE'] = df['DEPARTURE_DELAY'] > 15\n",
    "df[['DEPARTURE_DELAY', 'SALIDA_TARDE']].head()\n",
    "\n",
    "df_spark.withColumn(\"SALIDA_TARDE\", col(\"DEPARTURE_DELAY\") > 15).select(\"DEPARTURE_DELAY\", \"SALIDA_TARDE\").show(5)"
   ]
  },
  {
   "cell_type": "code",
   "execution_count": null,
   "id": "be02c733-cc1f-4558-ab32-a976f1348b80",
   "metadata": {},
   "outputs": [],
   "source": [
    "df[df['CANCELLED'] == 1].shape[0]\n",
    "\n",
    "df_spark.filter(col(\"CANCELLED\") == 1).count()"
   ]
  },
  {
   "cell_type": "code",
   "execution_count": null,
   "id": "764b8ce2-0b69-4c6e-860d-840fcbcb7056",
   "metadata": {},
   "outputs": [],
   "source": [
    "df[['DEPARTURE_DELAY', 'ARRIVAL_DELAY']].mean()\n",
    "\n",
    "df_spark.select(mean(\"DEPARTURE_DELAY\"), mean(\"ARRIVAL_DELAY\")).show()"
   ]
  },
  {
   "cell_type": "code",
   "execution_count": null,
   "id": "4ec3e40a-1306-4b3b-b269-ecfcd74f2c01",
   "metadata": {},
   "outputs": [],
   "source": [
    "df['CATEGORIA_RETRASO'] = df['ARRIVAL_DELAY'].apply(lambda x: \"Alto\" if x > 60 else \"Normal\")\n",
    "df[['ARRIVAL_DELAY', 'CATEGORIA_RETRASO']].head()\n",
    "\n",
    "df_spark.withColumn(\"CATEGORIA_RETRASO\", when(col(\"ARRIVAL_DELAY\") > 60, \"Alto\").otherwise(\"Normal\")).select(\"ARRIVAL_DELAY\", \"CATEGORIA_RETRASO\").show(5)"
   ]
  },
  {
   "cell_type": "markdown",
   "id": "e6812059-24cc-4535-84a0-d8d9598076f1",
   "metadata": {},
   "source": [
    "# Evaluar la eficiencia de nuestro código"
   ]
  },
  {
   "cell_type": "code",
   "execution_count": 26,
   "id": "2dec894e-98be-4dfd-a112-1b6052c6b4f0",
   "metadata": {},
   "outputs": [
    {
     "name": "stdout",
     "output_type": "stream",
     "text": [
      "Tiempo con time: 0.0731 seg\n"
     ]
    }
   ],
   "source": [
    "import time\n",
    "\n",
    "start = time.time()\n",
    "\n",
    "df.groupby(['AIRLINE'])['ARRIVAL_DELAY'].mean()\n",
    "\n",
    "print(\"Tiempo con time: \" + str(round(time.time() - start, 4)) + \" seg\")"
   ]
  },
  {
   "cell_type": "code",
   "execution_count": 27,
   "id": "d2879863-7694-43b8-9f18-2f34f1ceeb5a",
   "metadata": {},
   "outputs": [
    {
     "data": {
      "text/plain": [
       "1754298227.2060614"
      ]
     },
     "execution_count": 27,
     "metadata": {},
     "output_type": "execute_result"
    }
   ],
   "source": [
    "time.time()"
   ]
  },
  {
   "cell_type": "code",
   "execution_count": 29,
   "id": "f2143706-2cdc-4112-a1f4-3e7649deb18a",
   "metadata": {},
   "outputs": [
    {
     "name": "stdout",
     "output_type": "stream",
     "text": [
      "Tiempo con timeit: 3.374 seg\n"
     ]
    }
   ],
   "source": [
    "import timeit\n",
    "\n",
    "tiempo = timeit.timeit(\n",
    "    stmt=\"df.groupby(['AIRLINE'])['ARRIVAL_DELAY'].mean()\",\n",
    "    globals=globals(),\n",
    "    number=50\n",
    ")\n",
    "\n",
    "print(\"Tiempo con timeit: \" + str(round(tiempo, 4)) + \" seg\")"
   ]
  },
  {
   "cell_type": "code",
   "execution_count": 30,
   "id": "df984c0d-c6d1-43ec-bdaf-5a396298b775",
   "metadata": {},
   "outputs": [
    {
     "name": "stdout",
     "output_type": "stream",
     "text": [
      "{'retraso medio': np.float64(9.370158275198389), 'retraso máximo': 1988.0, 'cancelados': 89884}\n",
      "Tiempo función resumen: 5.0464 seg (x100)\n"
     ]
    }
   ],
   "source": [
    "def resumen_basico():\n",
    "    return {\n",
    "        'retraso medio': df['DEPARTURE_DELAY'].mean(),\n",
    "        'retraso máximo': df['DEPARTURE_DELAY'].max(),\n",
    "        'cancelados': int(df['CANCELLED'].sum())\n",
    "    }\n",
    "\n",
    "print(resumen_basico())\n",
    "\n",
    "print(\"Tiempo función resumen: \" + str(round(timeit.timeit(\"resumen_basico()\", globals=globals(), number=100), 4)) + \" seg (x100)\")"
   ]
  },
  {
   "cell_type": "code",
   "execution_count": 31,
   "id": "282121bd-da6c-4abd-8ece-2a98d6e0f81e",
   "metadata": {},
   "outputs": [
    {
     "name": "stdout",
     "output_type": "stream",
     "text": [
      "66.9 ms ± 252 μs per loop (mean ± std. dev. of 7 runs, 10 loops each)\n"
     ]
    }
   ],
   "source": [
    "%%timeit\n",
    "df.groupby(['AIRLINE'])['DEPARTURE_DELAY'].mean()"
   ]
  },
  {
   "cell_type": "code",
   "execution_count": null,
   "id": "b3cef05f-a522-44a1-9bcd-2d86c9cff933",
   "metadata": {},
   "outputs": [],
   "source": []
  },
  {
   "cell_type": "code",
   "execution_count": null,
   "id": "02adb8d0-27e5-4deb-b604-5a1f234faa15",
   "metadata": {},
   "outputs": [],
   "source": []
  }
 ],
 "metadata": {
  "kernelspec": {
   "display_name": "Python 3 (ipykernel)",
   "language": "python",
   "name": "python3"
  },
  "language_info": {
   "codemirror_mode": {
    "name": "ipython",
    "version": 3
   },
   "file_extension": ".py",
   "mimetype": "text/x-python",
   "name": "python",
   "nbconvert_exporter": "python",
   "pygments_lexer": "ipython3",
   "version": "3.13.5"
  }
 },
 "nbformat": 4,
 "nbformat_minor": 5
}
